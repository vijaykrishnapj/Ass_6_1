{
  "nbformat": 4,
  "nbformat_minor": 0,
  "metadata": {
    "colab": {
      "provenance": []
    },
    "kernelspec": {
      "name": "python3",
      "display_name": "Python 3"
    },
    "language_info": {
      "name": "python"
    }
  },
  "cells": [
    {
      "cell_type": "code",
      "execution_count": 4,
      "metadata": {
        "colab": {
          "base_uri": "https://localhost:8080/"
        },
        "id": "gbHoRWXdUHQk",
        "outputId": "84e7223b-cfef-4dbc-f483-7489cae95e59"
      },
      "outputs": [
        {
          "output_type": "stream",
          "name": "stdout",
          "text": [
            "(768, 8)\n",
            "Pregnancies                 14.453125\n",
            "Glucose                      0.651042\n",
            "BloodPressure                4.557292\n",
            "SkinThickness               29.557292\n",
            "Insulin                     48.697917\n",
            "BMI                          1.432292\n",
            "DiabetesPedigreeFunction     0.000000\n",
            "Age                          0.000000\n",
            "dtype: float64\n",
            "Pregnancies                 14.453125\n",
            "Glucose                      0.651042\n",
            "BloodPressure                4.557292\n",
            "BMI                          1.432292\n",
            "DiabetesPedigreeFunction     0.000000\n",
            "Age                          0.000000\n",
            "dtype: float64\n",
            "6\n",
            "0.7012987012987013\n",
            "0.7056277056277056\n"
          ]
        }
      ],
      "source": [
        "import pandas as pd\n",
        "data=pd.read_csv('/content/drive/MyDrive/Colab Notebooks/CSE303/Lab-7/diabetes.csv')\n",
        "\n",
        "x=data.drop(['Outcome'],axis=1)\n",
        "print(x.shape)\n",
        "\n",
        "y=data['Outcome']\n",
        "missing_values=x.eq(0).sum()\n",
        "percent_missing_value=(missing_values/len(x))*100\n",
        "print(percent_missing_value)\n",
        "final_data_columns=percent_missing_value.drop(percent_missing_value[percent_missing_value>28].index)\n",
        "print(final_data_columns)\n",
        "data_updated=x[final_data_columns.index]\n",
        "print(len(data_updated.keys()))\n",
        "from sklearn.model_selection import train_test_split\n",
        "from sklearn.tree import DecisionTreeClassifier\n",
        "from sklearn.metrics import accuracy_score\n",
        "model = DecisionTreeClassifier(random_state=42)\n",
        "x_train,x_test,y_train,y_test=train_test_split(x,y,test_size=0.3,random_state=42)\n",
        "model.fit(x_train,y_train)\n",
        "y_pred=model.predict(x_test)\n",
        "print(accuracy_score(y_test,y_pred))\n",
        "xu_train, xu_test, yu_train,yu_test=train_test_split(data_updated,y,test_size=0.3,random_state=42)\n",
        "model.fit(xu_train,yu_train)\n",
        "yu_pred=model.predict(xu_test)\n",
        "print(accuracy_score(yu_test,yu_pred))"
      ]
    }
  ]
}